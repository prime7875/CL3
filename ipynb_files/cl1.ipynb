{
 "cells": [
  {
   "cell_type": "code",
   "execution_count": 1,
   "metadata": {},
   "outputs": [],
   "source": [
    "import xmlrpc.client\n",
    "from xmlrpc.server import SimpleXMLRPCServer"
   ]
  },
  {
   "cell_type": "code",
   "execution_count": 2,
   "metadata": {},
   "outputs": [],
   "source": [
    "# Define the function to calculate factorial\n",
    "def factorial(n):\n",
    "    if n == 0:\n",
    "        return 1\n",
    "    else:\n",
    "        return n * factorial(n-1)"
   ]
  },
  {
   "cell_type": "code",
   "execution_count": 3,
   "metadata": {},
   "outputs": [],
   "source": [
    "# Start XML-RPC server\n",
    "def start_server():\n",
    "    with SimpleXMLRPCServer((\"localhost\", 8000)) as server:\n",
    "        server.register_function(factorial, \"factorial\")\n",
    "        print(\"XML-RPC server started on port 8000...\")\n",
    "        server.serve_forever()"
   ]
  },
  {
   "cell_type": "code",
   "execution_count": 4,
   "metadata": {},
   "outputs": [],
   "source": [
    "# Main function to connect to the server and calculate factorial\n",
    "def main():\n",
    "    try:\n",
    "        # Attempt to connect to the XML-RPC server\n",
    "        with xmlrpc.client.ServerProxy(\"http://localhost:8000\") as proxy:\n",
    "            number = int(input(\"Enter an integer to calculate factorial: \"))\n",
    "            result = proxy.factorial(number)\n",
    "            print(f\"The factorial of the number is {result}\")\n",
    "    except ConnectionRefusedError:\n",
    "        print(\"Connection refused. Make sure the server is running and listening on port 8000.\")\n"
   ]
  },
  {
   "cell_type": "code",
   "execution_count": 5,
   "metadata": {},
   "outputs": [
    {
     "name": "stdout",
     "output_type": "stream",
     "text": [
      "XML-RPC server started on port 8000...\n",
      "The factorial of the number is 3628800\n"
     ]
    }
   ],
   "source": [
    "if __name__ == \"__main__\":\n",
    "    # Start the server in a separate thread\n",
    "    import threading\n",
    "    server_thread = threading.Thread(target=start_server)\n",
    "    server_thread.daemon = True\n",
    "    server_thread.start()\n",
    "\n",
    "    # Call the main function\n",
    "    main()\n"
   ]
  },
  {
   "cell_type": "code",
   "execution_count": null,
   "metadata": {},
   "outputs": [],
   "source": []
  }
 ],
 "metadata": {
  "kernelspec": {
   "display_name": "sem8",
   "language": "python",
   "name": "python3"
  },
  "language_info": {
   "codemirror_mode": {
    "name": "ipython",
    "version": 3
   },
   "file_extension": ".py",
   "mimetype": "text/x-python",
   "name": "python",
   "nbconvert_exporter": "python",
   "pygments_lexer": "ipython3",
   "version": "3.11.0"
  }
 },
 "nbformat": 4,
 "nbformat_minor": 2
}
